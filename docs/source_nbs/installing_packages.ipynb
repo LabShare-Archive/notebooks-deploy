{
 "cells": [
  {
   "cell_type": "markdown",
   "metadata": {
    "Collapsed": "false",
    "kernel": "SoS"
   },
   "source": [
    "# Installing new packages"
   ]
  },
  {
   "cell_type": "markdown",
   "metadata": {
    "Collapsed": "false",
    "kernel": "SoS"
   },
   "source": [
    "Since Polus Notebooks are running in the container environment it has a fixed set of packages and libraries installed into it for all users. Of course, it cannot possibly include all existing libraries, so you might want to install something necessary for your research. Here is the walkthrough explaining how to install new package for each of the supported language kernels."
   ]
  },
  {
   "cell_type": "markdown",
   "metadata": {
    "Collapsed": "false",
    "kernel": "SoS"
   },
   "source": [
    "## Python 3"
   ]
  },
  {
   "cell_type": "markdown",
   "metadata": {
    "Collapsed": "false",
    "kernel": "SoS"
   },
   "source": [
    "### Install new packages with Anaconda"
   ]
  },
  {
   "cell_type": "markdown",
   "metadata": {
    "Collapsed": "false",
    "kernel": "SoS"
   },
   "source": [
    "### Install new packages with `pip`"
   ]
  }
 ],
 "metadata": {
  "kernelspec": {
   "display_name": "SoS",
   "language": "sos",
   "name": "sos"
  },
  "language_info": {
   "codemirror_mode": "sos",
   "file_extension": ".sos",
   "mimetype": "text/x-sos",
   "name": "sos",
   "nbconvert_exporter": "sos_notebook.converter.SoS_Exporter",
   "pygments_lexer": "sos"
  },
  "sos": {
   "kernels": [
    [
     "SoS",
     "sos",
     "",
     ""
    ]
   ],
   "version": "0.19.15"
  }
 },
 "nbformat": 4,
 "nbformat_minor": 4
}
