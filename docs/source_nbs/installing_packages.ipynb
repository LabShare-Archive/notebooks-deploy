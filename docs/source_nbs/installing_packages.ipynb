{
 "cells": [
  {
   "cell_type": "markdown",
   "metadata": {
    "Collapsed": "false",
    "kernel": "SoS"
   },
   "source": [
    "# Installing new packages"
   ]
  },
  {
   "cell_type": "markdown",
   "metadata": {
    "Collapsed": "false",
    "kernel": "SoS"
   },
   "source": [
    "Since Polus Notebooks are running in the container environment it has a fixed set of packages and libraries installed into it for all users. Of course, it cannot possibly include all existing libraries, so you might want to install something necessary for your research. Here is the walkthrough explaining how to install new package for each of the supported language kernels."
   ]
  },
  {
   "cell_type": "markdown",
   "metadata": {
    "Collapsed": "false",
    "kernel": "SoS"
   },
   "source": [
    "## Python 3"
   ]
  },
  {
   "cell_type": "markdown",
   "metadata": {
    "Collapsed": "false",
    "kernel": "SoS"
   },
   "source": [
    "Python packages are managed with `conda` package manager. You can use both `conda` or `pip` to install and update new packages"
   ]
  },
  {
   "cell_type": "markdown",
   "metadata": {
    "Collapsed": "false",
    "kernel": "SoS"
   },
   "source": [
    "### With `conda`\n",
    "\n",
    "1. Use [Anaconda Cloud](https://anaconda.org) to search for package you are interested in\n",
    "\n",
    "<img src=\"../img/anaconda_cloud_1.png\" style=\"width: 800px;\"/>\n",
    "\n",
    "2. Choose the package you are looking for. Most of the community packages are published through `conda-forge` account\n",
    "\n",
    "<img src=\"../img/anaconda_cloud_2.png\" style=\"width: 800px;\"/>\n",
    "\n",
    "3. Copy the install command and paste it to the notebook cell\n",
    "\n",
    "<img src=\"../img/anaconda_cloud_3.png\" style=\"width: 800px;\"/>\n",
    "\n",
    "You have to append `--yes` to the end of the command\n",
    "\n",
    "<img src=\"../img/anaconda_cloud_4.png\" style=\"width: 600px;\"/>"
   ]
  },
  {
   "cell_type": "markdown",
   "metadata": {
    "Collapsed": "false",
    "kernel": "SoS"
   },
   "source": [
    "### With `pip`\n",
    "\n",
    "1. Use [Python Package Index (PyPi)](https://pypi.org) to search for package you are interested in\n",
    "\n",
    "<img src=\"../img/pypi_1.png\" style=\"width: 800px;\"/>\n",
    "\n",
    "2. Choose the package you are looking for. \n",
    "\n",
    "<img src=\"../img/pypi_2.png\" style=\"width: 800px;\"/>\n",
    "\n",
    "3. Copy the install command and paste it to the notebook cell\n",
    "\n",
    "<img src=\"../img/pypi_3.png\" style=\"width: 800px;\"/>\n",
    "\n",
    "You have to use exclamation mark before the command to let Jupyter know that this is shell command\n",
    "\n",
    "<img src=\"../img/pypi_4.png\" style=\"width: 800px;\"/>\n",
    "\n",
    "You can specify the version to install using `=<version>` afer name of the package"
   ]
  },
  {
   "cell_type": "code",
   "execution_count": null,
   "metadata": {
    "Collapsed": "false",
    "kernel": "Python3"
   },
   "outputs": [],
   "source": [
    "!pip install opencv-python=4.1.1.26"
   ]
  },
  {
   "cell_type": "markdown",
   "metadata": {
    "Collapsed": "false",
    "kernel": "SoS"
   },
   "source": [
    "## R"
   ]
  },
  {
   "cell_type": "markdown",
   "metadata": {
    "Collapsed": "false",
    "kernel": "SoS"
   },
   "source": [
    "You can use both `conda` or `R` to install and update new packages"
   ]
  },
  {
   "cell_type": "markdown",
   "metadata": {
    "Collapsed": "false",
    "kernel": "Python3"
   },
   "source": [
    "### With Anaconda\n",
    "\n",
    "1. Use [Anaconda Cloud](https://anaconda.org) to search for R packages you are interested in\n",
    "\n",
    "<img src=\"../img/anaconda_cloud_1.png\" style=\"width: 800px;\"/>\n",
    "\n",
    "2. Choose the package you are looking for. Many R packages are published through `r/` or `conda-forge/` repos and their names start with `r-`\n",
    "\n",
    "<img src=\"../img/r_anaconda_cloud_2.png\" style=\"width: 800px;\"/>\n",
    "\n",
    "3. Copy the install command and paste it to the notebook cell\n",
    "\n",
    "<img src=\"../img/r_anaconda_cloud_3.png\" style=\"width: 800px;\"/>\n",
    "\n",
    "You have to append `--yes` to the end of the command"
   ]
  },
  {
   "cell_type": "code",
   "execution_count": null,
   "metadata": {
    "Collapsed": "false",
    "kernel": "R"
   },
   "outputs": [],
   "source": [
    "system(\"conda install -c r r-tidyverse --yes\", intern=TRUE)"
   ]
  },
  {
   "cell_type": "markdown",
   "metadata": {
    "Collapsed": "false",
    "kernel": "R"
   },
   "source": [
    "### From CRAN\n",
    "\n",
    "Install packages from CRAN-like repositories or from local files using `install.packages(\"<PACKAGE_NAME>\")` command"
   ]
  },
  {
   "cell_type": "code",
   "execution_count": null,
   "metadata": {
    "Collapsed": "false",
    "kernel": "R"
   },
   "outputs": [],
   "source": [
    "install.packages(\"tidyverse\")"
   ]
  },
  {
   "cell_type": "markdown",
   "metadata": {
    "Collapsed": "false",
    "kernel": "SoS"
   },
   "source": [
    "More documentation on `install.packages` available here: https://www.rdocumentation.org/packages/utils/versions/3.6.1/topics/install.packages"
   ]
  },
  {
   "cell_type": "markdown",
   "metadata": {
    "Collapsed": "false",
    "kernel": "SoS"
   },
   "source": [
    "## Julia"
   ]
  },
  {
   "cell_type": "markdown",
   "metadata": {
    "Collapsed": "false",
    "kernel": "SoS"
   },
   "source": []
  },
  {
   "cell_type": "markdown",
   "metadata": {
    "Collapsed": "false",
    "kernel": "SoS"
   },
   "source": [
    "## Java"
   ]
  },
  {
   "cell_type": "markdown",
   "metadata": {
    "Collapsed": "false",
    "kernel": "SoS"
   },
   "source": [
    "You can add maven dependencies at runtime using magic command `%maven`. Full list of supported magic commands is [here](https://github.com/SpencerPark/IJava/blob/master/docs/magics.md)."
   ]
  },
  {
   "cell_type": "code",
   "execution_count": null,
   "metadata": {
    "Collapsed": "false",
    "kernel": "Java"
   },
   "outputs": [],
   "source": [
    "%mavenRepo scijava.public https://maven.scijava.org/content/groups/public\n",
    "%maven net.imagej:imagej:2.0.0-rc-71\n",
    "%maven net.imagej:imagej-notebook:0.7.1"
   ]
  },
  {
   "cell_type": "markdown",
   "metadata": {
    "Collapsed": "false",
    "kernel": "SoS"
   },
   "source": [
    "You can search [Maven Central](https://search.maven.org) for available packages"
   ]
  },
  {
   "cell_type": "markdown",
   "metadata": {
    "Collapsed": "false",
    "kernel": "SoS"
   },
   "source": [
    "## Octave"
   ]
  },
  {
   "cell_type": "markdown",
   "metadata": {
    "Collapsed": "false",
    "kernel": "SoS"
   },
   "source": [
    "[Octave Forge](https://octave.sourceforge.io) is a central location for development of packages for GNU Octave, similar to Matlab's toolboxes. To install a package, use the pkg command from the Octave prompt by typing:"
   ]
  },
  {
   "cell_type": "code",
   "execution_count": null,
   "metadata": {
    "Collapsed": "false",
    "kernel": "Octave"
   },
   "outputs": [],
   "source": [
    "pkg install -forge package_name\n",
    "pkg load package_name"
   ]
  },
  {
   "cell_type": "markdown",
   "metadata": {
    "Collapsed": "false",
    "kernel": "SoS"
   },
   "source": [
    "## C++"
   ]
  },
  {
   "cell_type": "markdown",
   "metadata": {
    "Collapsed": "false",
    "kernel": "SoS"
   },
   "source": [
    "C++ does not have a built-in package manager. There are multiple existing package manager and if you are interested we may support one of them in the future."
   ]
  },
  {
   "cell_type": "code",
   "execution_count": null,
   "metadata": {
    "Collapsed": "false",
    "kernel": "SoS"
   },
   "outputs": [],
   "source": []
  }
 ],
 "metadata": {
  "kernelspec": {
   "display_name": "SoS",
   "language": "sos",
   "name": "sos"
  },
  "language_info": {
   "codemirror_mode": "sos",
   "file_extension": ".sos",
   "mimetype": "text/x-sos",
   "name": "sos",
   "nbconvert_exporter": "sos_notebook.converter.SoS_Exporter",
   "pygments_lexer": "sos"
  },
  "sos": {
   "kernels": [
    [
     "Java",
     "java",
     "Java",
     "#F80000",
     ""
    ],
    [
     "Octave",
     "octave",
     "Octave",
     "#dff8fb",
     ""
    ],
    [
     "Python3",
     "python3",
     "Python3",
     "#FFD91A",
     ""
    ],
    [
     "R",
     "ir",
     "R",
     "#DCDCDA",
     "r"
    ],
    [
     "SoS",
     "sos",
     "",
     "",
     "sos"
    ]
   ],
   "version": "0.19.15"
  }
 },
 "nbformat": 4,
 "nbformat_minor": 4
}
