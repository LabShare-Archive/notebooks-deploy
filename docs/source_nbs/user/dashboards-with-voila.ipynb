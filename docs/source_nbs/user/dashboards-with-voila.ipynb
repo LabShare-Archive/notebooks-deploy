{
 "cells": [
  {
   "cell_type": "markdown",
   "metadata": {
    "Collapsed": "false",
    "kernel": "SoS"
   },
   "source": [
    "# Interactive Dashboards from notebooks with Voilà"
   ]
  },
  {
   "cell_type": "markdown",
   "metadata": {
    "Collapsed": "false",
    "kernel": "SoS"
   },
   "source": [
    "See https://voila.readthedocs.io/en/stable/using.html for full Voilà documentation."
   ]
  },
  {
   "cell_type": "markdown",
   "metadata": {
    "Collapsed": "false",
    "kernel": "SoS"
   },
   "source": [
    "You can create interactive dashboards from Jupyter notebooks. Dashboards can be displayed in the new tab within Notebooks or in a new browser tab. This option is really great for presentations: you can show tables, images, interactive graphs while hiding the code. See example of Voilà dashboard below:\n",
    "\n",
    "![anaconda_cloud_1](../../img/voila_1.png)"
   ]
  },
  {
   "cell_type": "markdown",
   "metadata": {
    "Collapsed": "false",
    "kernel": "SoS"
   },
   "source": [
    "To try some tutorial notebooks, clone voila git repo: `https://github.com/QuantStack/voila` and open the `notebooks` folder."
   ]
  },
  {
   "cell_type": "markdown",
   "metadata": {
    "Collapsed": "false",
    "kernel": "SoS"
   },
   "source": [
    "## Render with Voilà in the new tab within Jupyter\n",
    "\n",
    "While editing notebook, clcik on the '[v]' button, as shown below:"
   ]
  },
  {
   "cell_type": "markdown",
   "metadata": {
    "Collapsed": "false",
    "kernel": "SoS"
   },
   "source": [
    "![anaconda_cloud_1](../../img/voila_2.png)"
   ]
  },
  {
   "cell_type": "markdown",
   "metadata": {
    "Collapsed": "false",
    "kernel": "SoS"
   },
   "source": [
    "## Render with Voila in the new browser tab\n",
    "\n",
    "![anaconda_cloud_1](../../img/voila_3.png)"
   ]
  }
 ],
 "metadata": {
  "kernelspec": {
   "display_name": "SoS",
   "language": "sos",
   "name": "sos"
  },
  "language_info": {
   "codemirror_mode": "sos",
   "file_extension": ".sos",
   "mimetype": "text/x-sos",
   "name": "sos",
   "nbconvert_exporter": "sos_notebook.converter.SoS_Exporter",
   "pygments_lexer": "sos"
  },
  "sos": {
   "kernels": [
    [
     "SoS",
     "sos",
     "",
     ""
    ]
   ],
   "version": "0.20.2"
  }
 },
 "nbformat": 4,
 "nbformat_minor": 4
}
