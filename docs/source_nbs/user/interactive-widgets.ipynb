{
 "cells": [
  {
   "cell_type": "markdown",
   "metadata": {
    "Collapsed": "false",
    "kernel": "SoS"
   },
   "source": [
    "# Interactive widgets and visulizations"
   ]
  },
  {
   "cell_type": "markdown",
   "metadata": {
    "Collapsed": "false",
    "kernel": "SoS"
   },
   "source": [
    "Notebooks come preinstalled with multiple visualization and widget libraries. See the list of examples below"
   ]
  },
  {
   "cell_type": "markdown",
   "metadata": {
    "Collapsed": "false",
    "kernel": "SoS"
   },
   "source": [
    "## Python"
   ]
  },
  {
   "cell_type": "markdown",
   "metadata": {
    "Collapsed": "false",
    "kernel": "SoS"
   },
   "source": [
    "### [Jupyter Widgets](https://github.com/jupyter-widgets/ipywidgets)\n",
    "\n",
    "Interactive Widgets for the Jupyter Notebook https://ipywidgets.readthedocs.io"
   ]
  },
  {
   "cell_type": "code",
   "execution_count": 6,
   "metadata": {
    "Collapsed": "false",
    "kernel": "Python3"
   },
   "outputs": [
    {
     "data": {
      "application/vnd.jupyter.widget-view+json": {
       "model_id": "0dc90b0154ac40e9bfe899dc76534b61",
       "version_major": 2,
       "version_minor": 0
      },
      "text/plain": [
       "interactive(children=(IntSlider(value=10, description='x', max=30, min=-10), Output()), _dom_classes=('widget-…"
      ]
     },
     "metadata": {},
     "output_type": "display_data"
    }
   ],
   "source": [
    "from __future__ import print_function\n",
    "from ipywidgets import interact, interactive, fixed, interact_manual\n",
    "import ipywidgets as widgets\n",
    "\n",
    "def f(x):\n",
    "    return x\n",
    "\n",
    "interact(f, x=10);"
   ]
  },
  {
   "cell_type": "markdown",
   "metadata": {
    "Collapsed": "false",
    "kernel": "Python3"
   },
   "source": [
    "The interactive widget will appear:\n",
    "\n",
    "![interactive-widget-1](../../img/interactive-1.png)"
   ]
  },
  {
   "cell_type": "markdown",
   "metadata": {
    "Collapsed": "false",
    "kernel": "SoS"
   },
   "source": [
    "### [Bokeh](https://docs.bokeh.org/en/latest/index.html)\n",
    "\n",
    "Interactive BokehJS plots controlled from Python"
   ]
  },
  {
   "cell_type": "markdown",
   "metadata": {
    "Collapsed": "false",
    "kernel": "SoS"
   },
   "source": [
    "## R\n",
    "\n",
    "htmlwidgets: enable interactive widgets\n",
    "\n",
    "highcharter: R interface to Highcharts\n",
    "\n",
    "dygraphs: time series charting\n",
    "\n",
    "visnetwork: graph data visualization with vis.js\n",
    "\n",
    "d3heatmap: interactive heatmaps with D3\n",
    "\n",
    "plotly: Interactive graphics with D3\n",
    "\n",
    "rbokeh: R interface to BokehJS\n",
    "\n",
    "networkd3: graph data visualization with D3\n",
    "\n",
    "Data Table: tabular data display with sorting and search\n",
    "\n",
    "threejs: 3D scatterplots and globes\n",
    "\n",
    "rglwidget: render RGL scenes"
   ]
  },
  {
   "cell_type": "code",
   "execution_count": null,
   "metadata": {
    "Collapsed": "false",
    "kernel": "Python3"
   },
   "outputs": [],
   "source": []
  }
 ],
 "metadata": {
  "kernelspec": {
   "display_name": "SoS",
   "language": "sos",
   "name": "sos"
  },
  "language_info": {
   "codemirror_mode": "sos",
   "file_extension": ".sos",
   "mimetype": "text/x-sos",
   "name": "sos",
   "nbconvert_exporter": "sos_notebook.converter.SoS_Exporter",
   "pygments_lexer": "sos"
  },
  "sos": {
   "kernels": [
    [
     "Python3",
     "python3",
     "Python3",
     "#FFD91A",
     ""
    ],
    [
     "SoS",
     "sos",
     "",
     "",
     "sos"
    ]
   ],
   "version": "0.20.2"
  }
 },
 "nbformat": 4,
 "nbformat_minor": 4
}
